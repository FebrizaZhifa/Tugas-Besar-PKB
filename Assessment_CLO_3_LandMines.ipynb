{
  "cells": [
    {
      "cell_type": "markdown",
      "metadata": {
        "id": "tFpYXGqo83RR"
      },
      "source": [
        "# <center>Assessment CLO-3: Tugas Pemrograman Learning</center>"
      ]
    },
    {
      "cell_type": "markdown",
      "metadata": {
        "id": "2ATHVkYH9vUE"
      },
      "source": [
        "<b>Topik</b>\n",
        "[Klasifikasi pada dataset LandMines Untuk Mendeteksi jenis jenis ranjau] pada menggunakan [KNN, Naive Bayes, dan Decision Tree]\n",
        "\n",
        "<b>Kelompok: </b>\n",
        "\n",
        "Anggota:\n",
        "1. Argiansyah Galih Permata - 1301223397\n",
        "2. Mohammad Alvinanda Kurniawan - 1301223004\n",
        "3. Zhifa Febriza Azfar - 1301223"
      ]
    },
    {
      "cell_type": "markdown",
      "metadata": {
        "id": "LzFHRH1L_APD"
      },
      "source": [
        "#### Pendahuluan\n",
        "Dataset \"Land Mines\" yang dipilih ini adalah dataset yang berasal dari UCI Machine Learning Repository. Dataset ini digunakan dalam konteks deteksi ranjau darat berdasarkan parameter sensor. Dataset ini berisi beberapa fitur yang berkaitan dengan nilai output sensor dan jenis ranjau yang terdeteksi. Tujuan dari penggunaan dataset ini adalah untuk melakukan klasifikasi jenis ranjau menggunakan teknik machine learning, dalam hal ini,kami menggunakan tiga metode yaitu:\n",
        "\n",
        "**Naïve Bayes**\n",
        "\n",
        "Deskripsi: Naïve Bayes adalah algoritma klasifikasi berbasis probabilistik yang menggunakan Teorema Bayes dengan asumsi independensi antar fitur. Metode ini sederhana dan cepat, namun efektif untuk berbagai tugas klasifikasi.\n",
        "Penerapan: Algoritma ini diterapkan pada dataset \"Land Mines\" untuk mengklasifikasikan jenis ranjau berdasarkan nilai sensor.\n",
        "\n",
        "**K-Nearest Neighbors (KNN) dengan Metrik Manhattan**\n",
        "\n",
        "Deskripsi: KNN adalah algoritma non-parametrik yang digunakan untuk klasifikasi dan regresi. Dalam metode ini, sebuah data diklasifikasikan berdasarkan kedekatan dengan tetangganya. Metrik Manhattan digunakan untuk mengukur jarak antar data.\n",
        "Penerapan: KNN diterapkan pada dataset \"Land Mines\" untuk mengklasifikasikan jenis ranjau berdasarkan nilai sensor dengan menggunakan metrik Manhattan untuk menghitung jarak antar titik data.\n",
        "\n",
        "**Decision Tree**\n",
        "\n",
        "Deskripsi: Decision Tree adalah algoritma pembelajaran mesin yang menggunakan struktur pohon untuk membuat keputusan berdasarkan fitur data. Algoritma ini membagi data ke dalam subset yang lebih kecil dan lebih homogen berdasarkan fitur yang paling signifikan.\n",
        "Penerapan: Decision Tree diterapkan pada dataset \"Land Mines\" untuk mengklasifikasikan jenis ranjau berdasarkan nilai sensor. Algoritma ini membantu dalam memahami keputusan klasifikasi dengan representasi visual yang mudah diinterpretasikan."
      ]
    },
    {
      "cell_type": "code",
      "execution_count": null,
      "metadata": {
        "colab": {
          "base_uri": "https://localhost:8080/"
        },
        "id": "2Zgiz-KpU9tS",
        "outputId": "2f853cc1-80ae-42dc-c2a9-0d94cf6d1609"
      },
      "outputs": [
        {
          "output_type": "stream",
          "name": "stdout",
          "text": [
            "Requirement already satisfied: ucimlrepo in /usr/local/lib/python3.10/dist-packages (0.0.7)\n",
            "Requirement already satisfied: pandas>=1.0.0 in /usr/local/lib/python3.10/dist-packages (from ucimlrepo) (2.0.3)\n",
            "Requirement already satisfied: certifi>=2020.12.5 in /usr/local/lib/python3.10/dist-packages (from ucimlrepo) (2024.6.2)\n",
            "Requirement already satisfied: python-dateutil>=2.8.2 in /usr/local/lib/python3.10/dist-packages (from pandas>=1.0.0->ucimlrepo) (2.8.2)\n",
            "Requirement already satisfied: pytz>=2020.1 in /usr/local/lib/python3.10/dist-packages (from pandas>=1.0.0->ucimlrepo) (2023.4)\n",
            "Requirement already satisfied: tzdata>=2022.1 in /usr/local/lib/python3.10/dist-packages (from pandas>=1.0.0->ucimlrepo) (2024.1)\n",
            "Requirement already satisfied: numpy>=1.21.0 in /usr/local/lib/python3.10/dist-packages (from pandas>=1.0.0->ucimlrepo) (1.25.2)\n",
            "Requirement already satisfied: six>=1.5 in /usr/local/lib/python3.10/dist-packages (from python-dateutil>=2.8.2->pandas>=1.0.0->ucimlrepo) (1.16.0)\n"
          ]
        }
      ],
      "source": [
        "pip install ucimlrepo"
      ]
    },
    {
      "cell_type": "code",
      "execution_count": null,
      "metadata": {
        "id": "KAlSRQRDAGE3"
      },
      "outputs": [],
      "source": [
        "import pandas as pd\n",
        "from sklearn.model_selection import train_test_split\n",
        "from sklearn.preprocessing import MinMaxScaler\n",
        "import seaborn as sns\n",
        "import matplotlib.pyplot as plt\n",
        "import numpy as np\n",
        "from scipy import stats\n",
        "from sklearn.neighbors import KNeighborsClassifier\n",
        "from sklearn.naive_bayes import GaussianNB\n",
        "from sklearn.metrics import accuracy_score, classification_report, precision_score, recall_score, f1_score\n",
        "from sklearn.tree import DecisionTreeClassifier"
      ]
    },
    {
      "cell_type": "markdown",
      "metadata": {
        "id": "4ZehgJuGCkaA"
      },
      "source": [
        "# **Import Dataset**"
      ]
    },
    {
      "cell_type": "code",
      "execution_count": null,
      "metadata": {
        "id": "CTGDKmMdCfDQ"
      },
      "outputs": [],
      "source": [
        "# Import Dataset\n",
        "dataset = pd.read_excel('/content/Mine_Dataset.xls', sheet_name=1)\n",
        "\n"
      ]
    },
    {
      "cell_type": "markdown",
      "metadata": {
        "id": "Ah2LyjG-CsSw"
      },
      "source": [
        "# **Menampilkan beberapa baris pertama dari dataset**"
      ]
    },
    {
      "cell_type": "code",
      "execution_count": null,
      "metadata": {
        "colab": {
          "base_uri": "https://localhost:8080/"
        },
        "id": "QqR_4ljSCv8T",
        "outputId": "b7224e6a-c3dd-4529-94da-56c286374ede"
      },
      "outputs": [
        {
          "output_type": "stream",
          "name": "stdout",
          "text": [
            "          V         H    S  M\n",
            "0  0.338157  0.000000  0.0  1\n",
            "1  0.320241  0.181818  0.0  1\n",
            "2  0.287009  0.272727  0.0  1\n",
            "3  0.256284  0.454545  0.0  1\n",
            "4  0.262840  0.545455  0.0  1\n"
          ]
        }
      ],
      "source": [
        "# Menampilkan beberapa baris pertama dari dataset\n",
        "print(dataset.head())\n"
      ]
    },
    {
      "cell_type": "markdown",
      "metadata": {
        "id": "gANiItiGCxl0"
      },
      "source": [
        "# **Memeriksa Nilai yang Hilang**"
      ]
    },
    {
      "cell_type": "code",
      "execution_count": null,
      "metadata": {
        "colab": {
          "base_uri": "https://localhost:8080/"
        },
        "id": "5mM4e7t0C2fL",
        "outputId": "0751c62c-9667-48c1-b1c0-747c7e09b619"
      },
      "outputs": [
        {
          "output_type": "stream",
          "name": "stdout",
          "text": [
            "\n",
            "Missing Values:\n",
            "V    0\n",
            "H    0\n",
            "S    0\n",
            "M    0\n",
            "dtype: int64\n"
          ]
        }
      ],
      "source": [
        "# Memeriksa nilai yang hilang\n",
        "print(\"\\nMissing Values:\")\n",
        "print(dataset.isnull().sum())\n"
      ]
    },
    {
      "cell_type": "markdown",
      "metadata": {
        "id": "_CX-6fk57KwM"
      },
      "source": [
        "# **Mengeksplorasi Data**"
      ]
    },
    {
      "cell_type": "code",
      "execution_count": null,
      "metadata": {
        "id": "WoPUm-SBN8ue"
      },
      "outputs": [],
      "source": [
        "from ucimlrepo import fetch_ucirepo\n",
        "dataset = fetch_ucirepo(id=763)\n",
        "\n",
        "# Convert to pandas DataFrame\n",
        "fitur = dataset.data.features\n",
        "target = dataset.data.targets"
      ]
    },
    {
      "cell_type": "code",
      "execution_count": null,
      "metadata": {
        "colab": {
          "base_uri": "https://localhost:8080/",
          "height": 423
        },
        "id": "dipIqBkNZ0Tw",
        "outputId": "3cc5f354-4b53-498f-a63c-fcd357be6f0d"
      },
      "outputs": [
        {
          "output_type": "execute_result",
          "data": {
            "text/plain": [
              "            V         H    S\n",
              "0    0.338157  0.000000  0.0\n",
              "1    0.320241  0.181818  0.0\n",
              "2    0.287009  0.272727  0.0\n",
              "3    0.256284  0.454545  0.0\n",
              "4    0.262840  0.545455  0.0\n",
              "..        ...       ...  ...\n",
              "333  0.323262  0.909091  0.4\n",
              "334  0.444108  0.181818  1.0\n",
              "335  0.353474  0.454545  1.0\n",
              "336  0.362537  0.727273  1.0\n",
              "337  0.314199  1.000000  1.0\n",
              "\n",
              "[338 rows x 3 columns]"
            ],
            "text/html": [
              "\n",
              "  <div id=\"df-01207ef9-3f9a-49bd-a354-d626ea86fdea\" class=\"colab-df-container\">\n",
              "    <div>\n",
              "<style scoped>\n",
              "    .dataframe tbody tr th:only-of-type {\n",
              "        vertical-align: middle;\n",
              "    }\n",
              "\n",
              "    .dataframe tbody tr th {\n",
              "        vertical-align: top;\n",
              "    }\n",
              "\n",
              "    .dataframe thead th {\n",
              "        text-align: right;\n",
              "    }\n",
              "</style>\n",
              "<table border=\"1\" class=\"dataframe\">\n",
              "  <thead>\n",
              "    <tr style=\"text-align: right;\">\n",
              "      <th></th>\n",
              "      <th>V</th>\n",
              "      <th>H</th>\n",
              "      <th>S</th>\n",
              "    </tr>\n",
              "  </thead>\n",
              "  <tbody>\n",
              "    <tr>\n",
              "      <th>0</th>\n",
              "      <td>0.338157</td>\n",
              "      <td>0.000000</td>\n",
              "      <td>0.0</td>\n",
              "    </tr>\n",
              "    <tr>\n",
              "      <th>1</th>\n",
              "      <td>0.320241</td>\n",
              "      <td>0.181818</td>\n",
              "      <td>0.0</td>\n",
              "    </tr>\n",
              "    <tr>\n",
              "      <th>2</th>\n",
              "      <td>0.287009</td>\n",
              "      <td>0.272727</td>\n",
              "      <td>0.0</td>\n",
              "    </tr>\n",
              "    <tr>\n",
              "      <th>3</th>\n",
              "      <td>0.256284</td>\n",
              "      <td>0.454545</td>\n",
              "      <td>0.0</td>\n",
              "    </tr>\n",
              "    <tr>\n",
              "      <th>4</th>\n",
              "      <td>0.262840</td>\n",
              "      <td>0.545455</td>\n",
              "      <td>0.0</td>\n",
              "    </tr>\n",
              "    <tr>\n",
              "      <th>...</th>\n",
              "      <td>...</td>\n",
              "      <td>...</td>\n",
              "      <td>...</td>\n",
              "    </tr>\n",
              "    <tr>\n",
              "      <th>333</th>\n",
              "      <td>0.323262</td>\n",
              "      <td>0.909091</td>\n",
              "      <td>0.4</td>\n",
              "    </tr>\n",
              "    <tr>\n",
              "      <th>334</th>\n",
              "      <td>0.444108</td>\n",
              "      <td>0.181818</td>\n",
              "      <td>1.0</td>\n",
              "    </tr>\n",
              "    <tr>\n",
              "      <th>335</th>\n",
              "      <td>0.353474</td>\n",
              "      <td>0.454545</td>\n",
              "      <td>1.0</td>\n",
              "    </tr>\n",
              "    <tr>\n",
              "      <th>336</th>\n",
              "      <td>0.362537</td>\n",
              "      <td>0.727273</td>\n",
              "      <td>1.0</td>\n",
              "    </tr>\n",
              "    <tr>\n",
              "      <th>337</th>\n",
              "      <td>0.314199</td>\n",
              "      <td>1.000000</td>\n",
              "      <td>1.0</td>\n",
              "    </tr>\n",
              "  </tbody>\n",
              "</table>\n",
              "<p>338 rows × 3 columns</p>\n",
              "</div>\n",
              "    <div class=\"colab-df-buttons\">\n",
              "\n",
              "  <div class=\"colab-df-container\">\n",
              "    <button class=\"colab-df-convert\" onclick=\"convertToInteractive('df-01207ef9-3f9a-49bd-a354-d626ea86fdea')\"\n",
              "            title=\"Convert this dataframe to an interactive table.\"\n",
              "            style=\"display:none;\">\n",
              "\n",
              "  <svg xmlns=\"http://www.w3.org/2000/svg\" height=\"24px\" viewBox=\"0 -960 960 960\">\n",
              "    <path d=\"M120-120v-720h720v720H120Zm60-500h600v-160H180v160Zm220 220h160v-160H400v160Zm0 220h160v-160H400v160ZM180-400h160v-160H180v160Zm440 0h160v-160H620v160ZM180-180h160v-160H180v160Zm440 0h160v-160H620v160Z\"/>\n",
              "  </svg>\n",
              "    </button>\n",
              "\n",
              "  <style>\n",
              "    .colab-df-container {\n",
              "      display:flex;\n",
              "      gap: 12px;\n",
              "    }\n",
              "\n",
              "    .colab-df-convert {\n",
              "      background-color: #E8F0FE;\n",
              "      border: none;\n",
              "      border-radius: 50%;\n",
              "      cursor: pointer;\n",
              "      display: none;\n",
              "      fill: #1967D2;\n",
              "      height: 32px;\n",
              "      padding: 0 0 0 0;\n",
              "      width: 32px;\n",
              "    }\n",
              "\n",
              "    .colab-df-convert:hover {\n",
              "      background-color: #E2EBFA;\n",
              "      box-shadow: 0px 1px 2px rgba(60, 64, 67, 0.3), 0px 1px 3px 1px rgba(60, 64, 67, 0.15);\n",
              "      fill: #174EA6;\n",
              "    }\n",
              "\n",
              "    .colab-df-buttons div {\n",
              "      margin-bottom: 4px;\n",
              "    }\n",
              "\n",
              "    [theme=dark] .colab-df-convert {\n",
              "      background-color: #3B4455;\n",
              "      fill: #D2E3FC;\n",
              "    }\n",
              "\n",
              "    [theme=dark] .colab-df-convert:hover {\n",
              "      background-color: #434B5C;\n",
              "      box-shadow: 0px 1px 3px 1px rgba(0, 0, 0, 0.15);\n",
              "      filter: drop-shadow(0px 1px 2px rgba(0, 0, 0, 0.3));\n",
              "      fill: #FFFFFF;\n",
              "    }\n",
              "  </style>\n",
              "\n",
              "    <script>\n",
              "      const buttonEl =\n",
              "        document.querySelector('#df-01207ef9-3f9a-49bd-a354-d626ea86fdea button.colab-df-convert');\n",
              "      buttonEl.style.display =\n",
              "        google.colab.kernel.accessAllowed ? 'block' : 'none';\n",
              "\n",
              "      async function convertToInteractive(key) {\n",
              "        const element = document.querySelector('#df-01207ef9-3f9a-49bd-a354-d626ea86fdea');\n",
              "        const dataTable =\n",
              "          await google.colab.kernel.invokeFunction('convertToInteractive',\n",
              "                                                    [key], {});\n",
              "        if (!dataTable) return;\n",
              "\n",
              "        const docLinkHtml = 'Like what you see? Visit the ' +\n",
              "          '<a target=\"_blank\" href=https://colab.research.google.com/notebooks/data_table.ipynb>data table notebook</a>'\n",
              "          + ' to learn more about interactive tables.';\n",
              "        element.innerHTML = '';\n",
              "        dataTable['output_type'] = 'display_data';\n",
              "        await google.colab.output.renderOutput(dataTable, element);\n",
              "        const docLink = document.createElement('div');\n",
              "        docLink.innerHTML = docLinkHtml;\n",
              "        element.appendChild(docLink);\n",
              "      }\n",
              "    </script>\n",
              "  </div>\n",
              "\n",
              "\n",
              "<div id=\"df-a5ec594c-4e32-4530-a9a4-d63f42455a07\">\n",
              "  <button class=\"colab-df-quickchart\" onclick=\"quickchart('df-a5ec594c-4e32-4530-a9a4-d63f42455a07')\"\n",
              "            title=\"Suggest charts\"\n",
              "            style=\"display:none;\">\n",
              "\n",
              "<svg xmlns=\"http://www.w3.org/2000/svg\" height=\"24px\"viewBox=\"0 0 24 24\"\n",
              "     width=\"24px\">\n",
              "    <g>\n",
              "        <path d=\"M19 3H5c-1.1 0-2 .9-2 2v14c0 1.1.9 2 2 2h14c1.1 0 2-.9 2-2V5c0-1.1-.9-2-2-2zM9 17H7v-7h2v7zm4 0h-2V7h2v10zm4 0h-2v-4h2v4z\"/>\n",
              "    </g>\n",
              "</svg>\n",
              "  </button>\n",
              "\n",
              "<style>\n",
              "  .colab-df-quickchart {\n",
              "      --bg-color: #E8F0FE;\n",
              "      --fill-color: #1967D2;\n",
              "      --hover-bg-color: #E2EBFA;\n",
              "      --hover-fill-color: #174EA6;\n",
              "      --disabled-fill-color: #AAA;\n",
              "      --disabled-bg-color: #DDD;\n",
              "  }\n",
              "\n",
              "  [theme=dark] .colab-df-quickchart {\n",
              "      --bg-color: #3B4455;\n",
              "      --fill-color: #D2E3FC;\n",
              "      --hover-bg-color: #434B5C;\n",
              "      --hover-fill-color: #FFFFFF;\n",
              "      --disabled-bg-color: #3B4455;\n",
              "      --disabled-fill-color: #666;\n",
              "  }\n",
              "\n",
              "  .colab-df-quickchart {\n",
              "    background-color: var(--bg-color);\n",
              "    border: none;\n",
              "    border-radius: 50%;\n",
              "    cursor: pointer;\n",
              "    display: none;\n",
              "    fill: var(--fill-color);\n",
              "    height: 32px;\n",
              "    padding: 0;\n",
              "    width: 32px;\n",
              "  }\n",
              "\n",
              "  .colab-df-quickchart:hover {\n",
              "    background-color: var(--hover-bg-color);\n",
              "    box-shadow: 0 1px 2px rgba(60, 64, 67, 0.3), 0 1px 3px 1px rgba(60, 64, 67, 0.15);\n",
              "    fill: var(--button-hover-fill-color);\n",
              "  }\n",
              "\n",
              "  .colab-df-quickchart-complete:disabled,\n",
              "  .colab-df-quickchart-complete:disabled:hover {\n",
              "    background-color: var(--disabled-bg-color);\n",
              "    fill: var(--disabled-fill-color);\n",
              "    box-shadow: none;\n",
              "  }\n",
              "\n",
              "  .colab-df-spinner {\n",
              "    border: 2px solid var(--fill-color);\n",
              "    border-color: transparent;\n",
              "    border-bottom-color: var(--fill-color);\n",
              "    animation:\n",
              "      spin 1s steps(1) infinite;\n",
              "  }\n",
              "\n",
              "  @keyframes spin {\n",
              "    0% {\n",
              "      border-color: transparent;\n",
              "      border-bottom-color: var(--fill-color);\n",
              "      border-left-color: var(--fill-color);\n",
              "    }\n",
              "    20% {\n",
              "      border-color: transparent;\n",
              "      border-left-color: var(--fill-color);\n",
              "      border-top-color: var(--fill-color);\n",
              "    }\n",
              "    30% {\n",
              "      border-color: transparent;\n",
              "      border-left-color: var(--fill-color);\n",
              "      border-top-color: var(--fill-color);\n",
              "      border-right-color: var(--fill-color);\n",
              "    }\n",
              "    40% {\n",
              "      border-color: transparent;\n",
              "      border-right-color: var(--fill-color);\n",
              "      border-top-color: var(--fill-color);\n",
              "    }\n",
              "    60% {\n",
              "      border-color: transparent;\n",
              "      border-right-color: var(--fill-color);\n",
              "    }\n",
              "    80% {\n",
              "      border-color: transparent;\n",
              "      border-right-color: var(--fill-color);\n",
              "      border-bottom-color: var(--fill-color);\n",
              "    }\n",
              "    90% {\n",
              "      border-color: transparent;\n",
              "      border-bottom-color: var(--fill-color);\n",
              "    }\n",
              "  }\n",
              "</style>\n",
              "\n",
              "  <script>\n",
              "    async function quickchart(key) {\n",
              "      const quickchartButtonEl =\n",
              "        document.querySelector('#' + key + ' button');\n",
              "      quickchartButtonEl.disabled = true;  // To prevent multiple clicks.\n",
              "      quickchartButtonEl.classList.add('colab-df-spinner');\n",
              "      try {\n",
              "        const charts = await google.colab.kernel.invokeFunction(\n",
              "            'suggestCharts', [key], {});\n",
              "      } catch (error) {\n",
              "        console.error('Error during call to suggestCharts:', error);\n",
              "      }\n",
              "      quickchartButtonEl.classList.remove('colab-df-spinner');\n",
              "      quickchartButtonEl.classList.add('colab-df-quickchart-complete');\n",
              "    }\n",
              "    (() => {\n",
              "      let quickchartButtonEl =\n",
              "        document.querySelector('#df-a5ec594c-4e32-4530-a9a4-d63f42455a07 button');\n",
              "      quickchartButtonEl.style.display =\n",
              "        google.colab.kernel.accessAllowed ? 'block' : 'none';\n",
              "    })();\n",
              "  </script>\n",
              "</div>\n",
              "    </div>\n",
              "  </div>\n"
            ],
            "application/vnd.google.colaboratory.intrinsic+json": {
              "type": "dataframe",
              "variable_name": "fitur",
              "summary": "{\n  \"name\": \"fitur\",\n  \"rows\": 338,\n  \"fields\": [\n    {\n      \"column\": \"V\",\n      \"properties\": {\n        \"dtype\": \"number\",\n        \"std\": 0.1958190262042624,\n        \"min\": 0.197733879,\n        \"max\": 0.999998728,\n        \"num_unique_values\": 196,\n        \"samples\": [\n          0.383685358,\n          0.24220528,\n          0.274924175\n        ],\n        \"semantic_type\": \"\",\n        \"description\": \"\"\n      }\n    },\n    {\n      \"column\": \"H\",\n      \"properties\": {\n        \"dtype\": \"number\",\n        \"std\": 0.3060433913772604,\n        \"min\": 0.0,\n        \"max\": 1.0,\n        \"num_unique_values\": 12,\n        \"samples\": [\n          0.363636364,\n          0.090909091,\n          0.0\n        ],\n        \"semantic_type\": \"\",\n        \"description\": \"\"\n      }\n    },\n    {\n      \"column\": \"S\",\n      \"properties\": {\n        \"dtype\": \"number\",\n        \"std\": 0.34424363243453365,\n        \"min\": 0.0,\n        \"max\": 1.0,\n        \"num_unique_values\": 6,\n        \"samples\": [\n          0.0,\n          0.6,\n          1.0\n        ],\n        \"semantic_type\": \"\",\n        \"description\": \"\"\n      }\n    }\n  ]\n}"
            }
          },
          "metadata": {},
          "execution_count": 100
        }
      ],
      "source": [
        "fitur"
      ]
    },
    {
      "cell_type": "code",
      "execution_count": null,
      "metadata": {
        "colab": {
          "base_uri": "https://localhost:8080/",
          "height": 423
        },
        "id": "hPBB_ucRZ3PD",
        "outputId": "4a9dbda7-5a02-442c-d9aa-fb9cc3fc2316"
      },
      "outputs": [
        {
          "output_type": "execute_result",
          "data": {
            "text/plain": [
              "     M\n",
              "0    1\n",
              "1    1\n",
              "2    1\n",
              "3    1\n",
              "4    1\n",
              "..  ..\n",
              "333  5\n",
              "334  5\n",
              "335  5\n",
              "336  5\n",
              "337  5\n",
              "\n",
              "[338 rows x 1 columns]"
            ],
            "text/html": [
              "\n",
              "  <div id=\"df-ebf6c5d7-dca0-48ab-ac85-3a82b25f66d2\" class=\"colab-df-container\">\n",
              "    <div>\n",
              "<style scoped>\n",
              "    .dataframe tbody tr th:only-of-type {\n",
              "        vertical-align: middle;\n",
              "    }\n",
              "\n",
              "    .dataframe tbody tr th {\n",
              "        vertical-align: top;\n",
              "    }\n",
              "\n",
              "    .dataframe thead th {\n",
              "        text-align: right;\n",
              "    }\n",
              "</style>\n",
              "<table border=\"1\" class=\"dataframe\">\n",
              "  <thead>\n",
              "    <tr style=\"text-align: right;\">\n",
              "      <th></th>\n",
              "      <th>M</th>\n",
              "    </tr>\n",
              "  </thead>\n",
              "  <tbody>\n",
              "    <tr>\n",
              "      <th>0</th>\n",
              "      <td>1</td>\n",
              "    </tr>\n",
              "    <tr>\n",
              "      <th>1</th>\n",
              "      <td>1</td>\n",
              "    </tr>\n",
              "    <tr>\n",
              "      <th>2</th>\n",
              "      <td>1</td>\n",
              "    </tr>\n",
              "    <tr>\n",
              "      <th>3</th>\n",
              "      <td>1</td>\n",
              "    </tr>\n",
              "    <tr>\n",
              "      <th>4</th>\n",
              "      <td>1</td>\n",
              "    </tr>\n",
              "    <tr>\n",
              "      <th>...</th>\n",
              "      <td>...</td>\n",
              "    </tr>\n",
              "    <tr>\n",
              "      <th>333</th>\n",
              "      <td>5</td>\n",
              "    </tr>\n",
              "    <tr>\n",
              "      <th>334</th>\n",
              "      <td>5</td>\n",
              "    </tr>\n",
              "    <tr>\n",
              "      <th>335</th>\n",
              "      <td>5</td>\n",
              "    </tr>\n",
              "    <tr>\n",
              "      <th>336</th>\n",
              "      <td>5</td>\n",
              "    </tr>\n",
              "    <tr>\n",
              "      <th>337</th>\n",
              "      <td>5</td>\n",
              "    </tr>\n",
              "  </tbody>\n",
              "</table>\n",
              "<p>338 rows × 1 columns</p>\n",
              "</div>\n",
              "    <div class=\"colab-df-buttons\">\n",
              "\n",
              "  <div class=\"colab-df-container\">\n",
              "    <button class=\"colab-df-convert\" onclick=\"convertToInteractive('df-ebf6c5d7-dca0-48ab-ac85-3a82b25f66d2')\"\n",
              "            title=\"Convert this dataframe to an interactive table.\"\n",
              "            style=\"display:none;\">\n",
              "\n",
              "  <svg xmlns=\"http://www.w3.org/2000/svg\" height=\"24px\" viewBox=\"0 -960 960 960\">\n",
              "    <path d=\"M120-120v-720h720v720H120Zm60-500h600v-160H180v160Zm220 220h160v-160H400v160Zm0 220h160v-160H400v160ZM180-400h160v-160H180v160Zm440 0h160v-160H620v160ZM180-180h160v-160H180v160Zm440 0h160v-160H620v160Z\"/>\n",
              "  </svg>\n",
              "    </button>\n",
              "\n",
              "  <style>\n",
              "    .colab-df-container {\n",
              "      display:flex;\n",
              "      gap: 12px;\n",
              "    }\n",
              "\n",
              "    .colab-df-convert {\n",
              "      background-color: #E8F0FE;\n",
              "      border: none;\n",
              "      border-radius: 50%;\n",
              "      cursor: pointer;\n",
              "      display: none;\n",
              "      fill: #1967D2;\n",
              "      height: 32px;\n",
              "      padding: 0 0 0 0;\n",
              "      width: 32px;\n",
              "    }\n",
              "\n",
              "    .colab-df-convert:hover {\n",
              "      background-color: #E2EBFA;\n",
              "      box-shadow: 0px 1px 2px rgba(60, 64, 67, 0.3), 0px 1px 3px 1px rgba(60, 64, 67, 0.15);\n",
              "      fill: #174EA6;\n",
              "    }\n",
              "\n",
              "    .colab-df-buttons div {\n",
              "      margin-bottom: 4px;\n",
              "    }\n",
              "\n",
              "    [theme=dark] .colab-df-convert {\n",
              "      background-color: #3B4455;\n",
              "      fill: #D2E3FC;\n",
              "    }\n",
              "\n",
              "    [theme=dark] .colab-df-convert:hover {\n",
              "      background-color: #434B5C;\n",
              "      box-shadow: 0px 1px 3px 1px rgba(0, 0, 0, 0.15);\n",
              "      filter: drop-shadow(0px 1px 2px rgba(0, 0, 0, 0.3));\n",
              "      fill: #FFFFFF;\n",
              "    }\n",
              "  </style>\n",
              "\n",
              "    <script>\n",
              "      const buttonEl =\n",
              "        document.querySelector('#df-ebf6c5d7-dca0-48ab-ac85-3a82b25f66d2 button.colab-df-convert');\n",
              "      buttonEl.style.display =\n",
              "        google.colab.kernel.accessAllowed ? 'block' : 'none';\n",
              "\n",
              "      async function convertToInteractive(key) {\n",
              "        const element = document.querySelector('#df-ebf6c5d7-dca0-48ab-ac85-3a82b25f66d2');\n",
              "        const dataTable =\n",
              "          await google.colab.kernel.invokeFunction('convertToInteractive',\n",
              "                                                    [key], {});\n",
              "        if (!dataTable) return;\n",
              "\n",
              "        const docLinkHtml = 'Like what you see? Visit the ' +\n",
              "          '<a target=\"_blank\" href=https://colab.research.google.com/notebooks/data_table.ipynb>data table notebook</a>'\n",
              "          + ' to learn more about interactive tables.';\n",
              "        element.innerHTML = '';\n",
              "        dataTable['output_type'] = 'display_data';\n",
              "        await google.colab.output.renderOutput(dataTable, element);\n",
              "        const docLink = document.createElement('div');\n",
              "        docLink.innerHTML = docLinkHtml;\n",
              "        element.appendChild(docLink);\n",
              "      }\n",
              "    </script>\n",
              "  </div>\n",
              "\n",
              "\n",
              "<div id=\"df-88f8d207-7356-4e26-8c3d-51991a1382a9\">\n",
              "  <button class=\"colab-df-quickchart\" onclick=\"quickchart('df-88f8d207-7356-4e26-8c3d-51991a1382a9')\"\n",
              "            title=\"Suggest charts\"\n",
              "            style=\"display:none;\">\n",
              "\n",
              "<svg xmlns=\"http://www.w3.org/2000/svg\" height=\"24px\"viewBox=\"0 0 24 24\"\n",
              "     width=\"24px\">\n",
              "    <g>\n",
              "        <path d=\"M19 3H5c-1.1 0-2 .9-2 2v14c0 1.1.9 2 2 2h14c1.1 0 2-.9 2-2V5c0-1.1-.9-2-2-2zM9 17H7v-7h2v7zm4 0h-2V7h2v10zm4 0h-2v-4h2v4z\"/>\n",
              "    </g>\n",
              "</svg>\n",
              "  </button>\n",
              "\n",
              "<style>\n",
              "  .colab-df-quickchart {\n",
              "      --bg-color: #E8F0FE;\n",
              "      --fill-color: #1967D2;\n",
              "      --hover-bg-color: #E2EBFA;\n",
              "      --hover-fill-color: #174EA6;\n",
              "      --disabled-fill-color: #AAA;\n",
              "      --disabled-bg-color: #DDD;\n",
              "  }\n",
              "\n",
              "  [theme=dark] .colab-df-quickchart {\n",
              "      --bg-color: #3B4455;\n",
              "      --fill-color: #D2E3FC;\n",
              "      --hover-bg-color: #434B5C;\n",
              "      --hover-fill-color: #FFFFFF;\n",
              "      --disabled-bg-color: #3B4455;\n",
              "      --disabled-fill-color: #666;\n",
              "  }\n",
              "\n",
              "  .colab-df-quickchart {\n",
              "    background-color: var(--bg-color);\n",
              "    border: none;\n",
              "    border-radius: 50%;\n",
              "    cursor: pointer;\n",
              "    display: none;\n",
              "    fill: var(--fill-color);\n",
              "    height: 32px;\n",
              "    padding: 0;\n",
              "    width: 32px;\n",
              "  }\n",
              "\n",
              "  .colab-df-quickchart:hover {\n",
              "    background-color: var(--hover-bg-color);\n",
              "    box-shadow: 0 1px 2px rgba(60, 64, 67, 0.3), 0 1px 3px 1px rgba(60, 64, 67, 0.15);\n",
              "    fill: var(--button-hover-fill-color);\n",
              "  }\n",
              "\n",
              "  .colab-df-quickchart-complete:disabled,\n",
              "  .colab-df-quickchart-complete:disabled:hover {\n",
              "    background-color: var(--disabled-bg-color);\n",
              "    fill: var(--disabled-fill-color);\n",
              "    box-shadow: none;\n",
              "  }\n",
              "\n",
              "  .colab-df-spinner {\n",
              "    border: 2px solid var(--fill-color);\n",
              "    border-color: transparent;\n",
              "    border-bottom-color: var(--fill-color);\n",
              "    animation:\n",
              "      spin 1s steps(1) infinite;\n",
              "  }\n",
              "\n",
              "  @keyframes spin {\n",
              "    0% {\n",
              "      border-color: transparent;\n",
              "      border-bottom-color: var(--fill-color);\n",
              "      border-left-color: var(--fill-color);\n",
              "    }\n",
              "    20% {\n",
              "      border-color: transparent;\n",
              "      border-left-color: var(--fill-color);\n",
              "      border-top-color: var(--fill-color);\n",
              "    }\n",
              "    30% {\n",
              "      border-color: transparent;\n",
              "      border-left-color: var(--fill-color);\n",
              "      border-top-color: var(--fill-color);\n",
              "      border-right-color: var(--fill-color);\n",
              "    }\n",
              "    40% {\n",
              "      border-color: transparent;\n",
              "      border-right-color: var(--fill-color);\n",
              "      border-top-color: var(--fill-color);\n",
              "    }\n",
              "    60% {\n",
              "      border-color: transparent;\n",
              "      border-right-color: var(--fill-color);\n",
              "    }\n",
              "    80% {\n",
              "      border-color: transparent;\n",
              "      border-right-color: var(--fill-color);\n",
              "      border-bottom-color: var(--fill-color);\n",
              "    }\n",
              "    90% {\n",
              "      border-color: transparent;\n",
              "      border-bottom-color: var(--fill-color);\n",
              "    }\n",
              "  }\n",
              "</style>\n",
              "\n",
              "  <script>\n",
              "    async function quickchart(key) {\n",
              "      const quickchartButtonEl =\n",
              "        document.querySelector('#' + key + ' button');\n",
              "      quickchartButtonEl.disabled = true;  // To prevent multiple clicks.\n",
              "      quickchartButtonEl.classList.add('colab-df-spinner');\n",
              "      try {\n",
              "        const charts = await google.colab.kernel.invokeFunction(\n",
              "            'suggestCharts', [key], {});\n",
              "      } catch (error) {\n",
              "        console.error('Error during call to suggestCharts:', error);\n",
              "      }\n",
              "      quickchartButtonEl.classList.remove('colab-df-spinner');\n",
              "      quickchartButtonEl.classList.add('colab-df-quickchart-complete');\n",
              "    }\n",
              "    (() => {\n",
              "      let quickchartButtonEl =\n",
              "        document.querySelector('#df-88f8d207-7356-4e26-8c3d-51991a1382a9 button');\n",
              "      quickchartButtonEl.style.display =\n",
              "        google.colab.kernel.accessAllowed ? 'block' : 'none';\n",
              "    })();\n",
              "  </script>\n",
              "</div>\n",
              "    </div>\n",
              "  </div>\n"
            ],
            "application/vnd.google.colaboratory.intrinsic+json": {
              "type": "dataframe",
              "variable_name": "target",
              "summary": "{\n  \"name\": \"target\",\n  \"rows\": 338,\n  \"fields\": [\n    {\n      \"column\": \"M\",\n      \"properties\": {\n        \"dtype\": \"number\",\n        \"std\": 1,\n        \"min\": 1,\n        \"max\": 5,\n        \"num_unique_values\": 5,\n        \"samples\": [\n          2,\n          5,\n          3\n        ],\n        \"semantic_type\": \"\",\n        \"description\": \"\"\n      }\n    }\n  ]\n}"
            }
          },
          "metadata": {},
          "execution_count": 101
        }
      ],
      "source": [
        "target"
      ]
    },
    {
      "cell_type": "code",
      "execution_count": null,
      "metadata": {
        "id": "qN6N6QzPcn0Z"
      },
      "outputs": [],
      "source": [
        "dataset = pd.concat([fitur, target], axis=1)"
      ]
    },
    {
      "cell_type": "code",
      "execution_count": null,
      "metadata": {
        "colab": {
          "base_uri": "https://localhost:8080/",
          "height": 423
        },
        "id": "9Cpnye2JctcP",
        "outputId": "3e73715b-7834-4970-92aa-1c0714a5b925"
      },
      "outputs": [
        {
          "output_type": "execute_result",
          "data": {
            "text/plain": [
              "            V         H    S  M\n",
              "0    0.338157  0.000000  0.0  1\n",
              "1    0.320241  0.181818  0.0  1\n",
              "2    0.287009  0.272727  0.0  1\n",
              "3    0.256284  0.454545  0.0  1\n",
              "4    0.262840  0.545455  0.0  1\n",
              "..        ...       ...  ... ..\n",
              "333  0.323262  0.909091  0.4  5\n",
              "334  0.444108  0.181818  1.0  5\n",
              "335  0.353474  0.454545  1.0  5\n",
              "336  0.362537  0.727273  1.0  5\n",
              "337  0.314199  1.000000  1.0  5\n",
              "\n",
              "[338 rows x 4 columns]"
            ],
            "text/html": [
              "\n",
              "  <div id=\"df-229a4412-dd0a-4fc4-94ba-a05d0bdcb134\" class=\"colab-df-container\">\n",
              "    <div>\n",
              "<style scoped>\n",
              "    .dataframe tbody tr th:only-of-type {\n",
              "        vertical-align: middle;\n",
              "    }\n",
              "\n",
              "    .dataframe tbody tr th {\n",
              "        vertical-align: top;\n",
              "    }\n",
              "\n",
              "    .dataframe thead th {\n",
              "        text-align: right;\n",
              "    }\n",
              "</style>\n",
              "<table border=\"1\" class=\"dataframe\">\n",
              "  <thead>\n",
              "    <tr style=\"text-align: right;\">\n",
              "      <th></th>\n",
              "      <th>V</th>\n",
              "      <th>H</th>\n",
              "      <th>S</th>\n",
              "      <th>M</th>\n",
              "    </tr>\n",
              "  </thead>\n",
              "  <tbody>\n",
              "    <tr>\n",
              "      <th>0</th>\n",
              "      <td>0.338157</td>\n",
              "      <td>0.000000</td>\n",
              "      <td>0.0</td>\n",
              "      <td>1</td>\n",
              "    </tr>\n",
              "    <tr>\n",
              "      <th>1</th>\n",
              "      <td>0.320241</td>\n",
              "      <td>0.181818</td>\n",
              "      <td>0.0</td>\n",
              "      <td>1</td>\n",
              "    </tr>\n",
              "    <tr>\n",
              "      <th>2</th>\n",
              "      <td>0.287009</td>\n",
              "      <td>0.272727</td>\n",
              "      <td>0.0</td>\n",
              "      <td>1</td>\n",
              "    </tr>\n",
              "    <tr>\n",
              "      <th>3</th>\n",
              "      <td>0.256284</td>\n",
              "      <td>0.454545</td>\n",
              "      <td>0.0</td>\n",
              "      <td>1</td>\n",
              "    </tr>\n",
              "    <tr>\n",
              "      <th>4</th>\n",
              "      <td>0.262840</td>\n",
              "      <td>0.545455</td>\n",
              "      <td>0.0</td>\n",
              "      <td>1</td>\n",
              "    </tr>\n",
              "    <tr>\n",
              "      <th>...</th>\n",
              "      <td>...</td>\n",
              "      <td>...</td>\n",
              "      <td>...</td>\n",
              "      <td>...</td>\n",
              "    </tr>\n",
              "    <tr>\n",
              "      <th>333</th>\n",
              "      <td>0.323262</td>\n",
              "      <td>0.909091</td>\n",
              "      <td>0.4</td>\n",
              "      <td>5</td>\n",
              "    </tr>\n",
              "    <tr>\n",
              "      <th>334</th>\n",
              "      <td>0.444108</td>\n",
              "      <td>0.181818</td>\n",
              "      <td>1.0</td>\n",
              "      <td>5</td>\n",
              "    </tr>\n",
              "    <tr>\n",
              "      <th>335</th>\n",
              "      <td>0.353474</td>\n",
              "      <td>0.454545</td>\n",
              "      <td>1.0</td>\n",
              "      <td>5</td>\n",
              "    </tr>\n",
              "    <tr>\n",
              "      <th>336</th>\n",
              "      <td>0.362537</td>\n",
              "      <td>0.727273</td>\n",
              "      <td>1.0</td>\n",
              "      <td>5</td>\n",
              "    </tr>\n",
              "    <tr>\n",
              "      <th>337</th>\n",
              "      <td>0.314199</td>\n",
              "      <td>1.000000</td>\n",
              "      <td>1.0</td>\n",
              "      <td>5</td>\n",
              "    </tr>\n",
              "  </tbody>\n",
              "</table>\n",
              "<p>338 rows × 4 columns</p>\n",
              "</div>\n",
              "    <div class=\"colab-df-buttons\">\n",
              "\n",
              "  <div class=\"colab-df-container\">\n",
              "    <button class=\"colab-df-convert\" onclick=\"convertToInteractive('df-229a4412-dd0a-4fc4-94ba-a05d0bdcb134')\"\n",
              "            title=\"Convert this dataframe to an interactive table.\"\n",
              "            style=\"display:none;\">\n",
              "\n",
              "  <svg xmlns=\"http://www.w3.org/2000/svg\" height=\"24px\" viewBox=\"0 -960 960 960\">\n",
              "    <path d=\"M120-120v-720h720v720H120Zm60-500h600v-160H180v160Zm220 220h160v-160H400v160Zm0 220h160v-160H400v160ZM180-400h160v-160H180v160Zm440 0h160v-160H620v160ZM180-180h160v-160H180v160Zm440 0h160v-160H620v160Z\"/>\n",
              "  </svg>\n",
              "    </button>\n",
              "\n",
              "  <style>\n",
              "    .colab-df-container {\n",
              "      display:flex;\n",
              "      gap: 12px;\n",
              "    }\n",
              "\n",
              "    .colab-df-convert {\n",
              "      background-color: #E8F0FE;\n",
              "      border: none;\n",
              "      border-radius: 50%;\n",
              "      cursor: pointer;\n",
              "      display: none;\n",
              "      fill: #1967D2;\n",
              "      height: 32px;\n",
              "      padding: 0 0 0 0;\n",
              "      width: 32px;\n",
              "    }\n",
              "\n",
              "    .colab-df-convert:hover {\n",
              "      background-color: #E2EBFA;\n",
              "      box-shadow: 0px 1px 2px rgba(60, 64, 67, 0.3), 0px 1px 3px 1px rgba(60, 64, 67, 0.15);\n",
              "      fill: #174EA6;\n",
              "    }\n",
              "\n",
              "    .colab-df-buttons div {\n",
              "      margin-bottom: 4px;\n",
              "    }\n",
              "\n",
              "    [theme=dark] .colab-df-convert {\n",
              "      background-color: #3B4455;\n",
              "      fill: #D2E3FC;\n",
              "    }\n",
              "\n",
              "    [theme=dark] .colab-df-convert:hover {\n",
              "      background-color: #434B5C;\n",
              "      box-shadow: 0px 1px 3px 1px rgba(0, 0, 0, 0.15);\n",
              "      filter: drop-shadow(0px 1px 2px rgba(0, 0, 0, 0.3));\n",
              "      fill: #FFFFFF;\n",
              "    }\n",
              "  </style>\n",
              "\n",
              "    <script>\n",
              "      const buttonEl =\n",
              "        document.querySelector('#df-229a4412-dd0a-4fc4-94ba-a05d0bdcb134 button.colab-df-convert');\n",
              "      buttonEl.style.display =\n",
              "        google.colab.kernel.accessAllowed ? 'block' : 'none';\n",
              "\n",
              "      async function convertToInteractive(key) {\n",
              "        const element = document.querySelector('#df-229a4412-dd0a-4fc4-94ba-a05d0bdcb134');\n",
              "        const dataTable =\n",
              "          await google.colab.kernel.invokeFunction('convertToInteractive',\n",
              "                                                    [key], {});\n",
              "        if (!dataTable) return;\n",
              "\n",
              "        const docLinkHtml = 'Like what you see? Visit the ' +\n",
              "          '<a target=\"_blank\" href=https://colab.research.google.com/notebooks/data_table.ipynb>data table notebook</a>'\n",
              "          + ' to learn more about interactive tables.';\n",
              "        element.innerHTML = '';\n",
              "        dataTable['output_type'] = 'display_data';\n",
              "        await google.colab.output.renderOutput(dataTable, element);\n",
              "        const docLink = document.createElement('div');\n",
              "        docLink.innerHTML = docLinkHtml;\n",
              "        element.appendChild(docLink);\n",
              "      }\n",
              "    </script>\n",
              "  </div>\n",
              "\n",
              "\n",
              "<div id=\"df-fc3f0d01-7caa-4f5f-a329-2793c511b055\">\n",
              "  <button class=\"colab-df-quickchart\" onclick=\"quickchart('df-fc3f0d01-7caa-4f5f-a329-2793c511b055')\"\n",
              "            title=\"Suggest charts\"\n",
              "            style=\"display:none;\">\n",
              "\n",
              "<svg xmlns=\"http://www.w3.org/2000/svg\" height=\"24px\"viewBox=\"0 0 24 24\"\n",
              "     width=\"24px\">\n",
              "    <g>\n",
              "        <path d=\"M19 3H5c-1.1 0-2 .9-2 2v14c0 1.1.9 2 2 2h14c1.1 0 2-.9 2-2V5c0-1.1-.9-2-2-2zM9 17H7v-7h2v7zm4 0h-2V7h2v10zm4 0h-2v-4h2v4z\"/>\n",
              "    </g>\n",
              "</svg>\n",
              "  </button>\n",
              "\n",
              "<style>\n",
              "  .colab-df-quickchart {\n",
              "      --bg-color: #E8F0FE;\n",
              "      --fill-color: #1967D2;\n",
              "      --hover-bg-color: #E2EBFA;\n",
              "      --hover-fill-color: #174EA6;\n",
              "      --disabled-fill-color: #AAA;\n",
              "      --disabled-bg-color: #DDD;\n",
              "  }\n",
              "\n",
              "  [theme=dark] .colab-df-quickchart {\n",
              "      --bg-color: #3B4455;\n",
              "      --fill-color: #D2E3FC;\n",
              "      --hover-bg-color: #434B5C;\n",
              "      --hover-fill-color: #FFFFFF;\n",
              "      --disabled-bg-color: #3B4455;\n",
              "      --disabled-fill-color: #666;\n",
              "  }\n",
              "\n",
              "  .colab-df-quickchart {\n",
              "    background-color: var(--bg-color);\n",
              "    border: none;\n",
              "    border-radius: 50%;\n",
              "    cursor: pointer;\n",
              "    display: none;\n",
              "    fill: var(--fill-color);\n",
              "    height: 32px;\n",
              "    padding: 0;\n",
              "    width: 32px;\n",
              "  }\n",
              "\n",
              "  .colab-df-quickchart:hover {\n",
              "    background-color: var(--hover-bg-color);\n",
              "    box-shadow: 0 1px 2px rgba(60, 64, 67, 0.3), 0 1px 3px 1px rgba(60, 64, 67, 0.15);\n",
              "    fill: var(--button-hover-fill-color);\n",
              "  }\n",
              "\n",
              "  .colab-df-quickchart-complete:disabled,\n",
              "  .colab-df-quickchart-complete:disabled:hover {\n",
              "    background-color: var(--disabled-bg-color);\n",
              "    fill: var(--disabled-fill-color);\n",
              "    box-shadow: none;\n",
              "  }\n",
              "\n",
              "  .colab-df-spinner {\n",
              "    border: 2px solid var(--fill-color);\n",
              "    border-color: transparent;\n",
              "    border-bottom-color: var(--fill-color);\n",
              "    animation:\n",
              "      spin 1s steps(1) infinite;\n",
              "  }\n",
              "\n",
              "  @keyframes spin {\n",
              "    0% {\n",
              "      border-color: transparent;\n",
              "      border-bottom-color: var(--fill-color);\n",
              "      border-left-color: var(--fill-color);\n",
              "    }\n",
              "    20% {\n",
              "      border-color: transparent;\n",
              "      border-left-color: var(--fill-color);\n",
              "      border-top-color: var(--fill-color);\n",
              "    }\n",
              "    30% {\n",
              "      border-color: transparent;\n",
              "      border-left-color: var(--fill-color);\n",
              "      border-top-color: var(--fill-color);\n",
              "      border-right-color: var(--fill-color);\n",
              "    }\n",
              "    40% {\n",
              "      border-color: transparent;\n",
              "      border-right-color: var(--fill-color);\n",
              "      border-top-color: var(--fill-color);\n",
              "    }\n",
              "    60% {\n",
              "      border-color: transparent;\n",
              "      border-right-color: var(--fill-color);\n",
              "    }\n",
              "    80% {\n",
              "      border-color: transparent;\n",
              "      border-right-color: var(--fill-color);\n",
              "      border-bottom-color: var(--fill-color);\n",
              "    }\n",
              "    90% {\n",
              "      border-color: transparent;\n",
              "      border-bottom-color: var(--fill-color);\n",
              "    }\n",
              "  }\n",
              "</style>\n",
              "\n",
              "  <script>\n",
              "    async function quickchart(key) {\n",
              "      const quickchartButtonEl =\n",
              "        document.querySelector('#' + key + ' button');\n",
              "      quickchartButtonEl.disabled = true;  // To prevent multiple clicks.\n",
              "      quickchartButtonEl.classList.add('colab-df-spinner');\n",
              "      try {\n",
              "        const charts = await google.colab.kernel.invokeFunction(\n",
              "            'suggestCharts', [key], {});\n",
              "      } catch (error) {\n",
              "        console.error('Error during call to suggestCharts:', error);\n",
              "      }\n",
              "      quickchartButtonEl.classList.remove('colab-df-spinner');\n",
              "      quickchartButtonEl.classList.add('colab-df-quickchart-complete');\n",
              "    }\n",
              "    (() => {\n",
              "      let quickchartButtonEl =\n",
              "        document.querySelector('#df-fc3f0d01-7caa-4f5f-a329-2793c511b055 button');\n",
              "      quickchartButtonEl.style.display =\n",
              "        google.colab.kernel.accessAllowed ? 'block' : 'none';\n",
              "    })();\n",
              "  </script>\n",
              "</div>\n",
              "    </div>\n",
              "  </div>\n"
            ],
            "application/vnd.google.colaboratory.intrinsic+json": {
              "type": "dataframe",
              "variable_name": "dataset",
              "summary": "{\n  \"name\": \"dataset\",\n  \"rows\": 338,\n  \"fields\": [\n    {\n      \"column\": \"V\",\n      \"properties\": {\n        \"dtype\": \"number\",\n        \"std\": 0.1958190262042624,\n        \"min\": 0.197733879,\n        \"max\": 0.999998728,\n        \"num_unique_values\": 196,\n        \"samples\": [\n          0.383685358,\n          0.24220528,\n          0.274924175\n        ],\n        \"semantic_type\": \"\",\n        \"description\": \"\"\n      }\n    },\n    {\n      \"column\": \"H\",\n      \"properties\": {\n        \"dtype\": \"number\",\n        \"std\": 0.3060433913772604,\n        \"min\": 0.0,\n        \"max\": 1.0,\n        \"num_unique_values\": 12,\n        \"samples\": [\n          0.363636364,\n          0.090909091,\n          0.0\n        ],\n        \"semantic_type\": \"\",\n        \"description\": \"\"\n      }\n    },\n    {\n      \"column\": \"S\",\n      \"properties\": {\n        \"dtype\": \"number\",\n        \"std\": 0.34424363243453365,\n        \"min\": 0.0,\n        \"max\": 1.0,\n        \"num_unique_values\": 6,\n        \"samples\": [\n          0.0,\n          0.6,\n          1.0\n        ],\n        \"semantic_type\": \"\",\n        \"description\": \"\"\n      }\n    },\n    {\n      \"column\": \"M\",\n      \"properties\": {\n        \"dtype\": \"number\",\n        \"std\": 1,\n        \"min\": 1,\n        \"max\": 5,\n        \"num_unique_values\": 5,\n        \"samples\": [\n          2,\n          5,\n          3\n        ],\n        \"semantic_type\": \"\",\n        \"description\": \"\"\n      }\n    }\n  ]\n}"
            }
          },
          "metadata": {},
          "execution_count": 103
        }
      ],
      "source": [
        "dataset"
      ]
    },
    {
      "cell_type": "markdown",
      "metadata": {
        "id": "PVBP9miCC7z3"
      },
      "source": [
        "# **Mengecek Outlier**"
      ]
    },
    {
      "cell_type": "code",
      "execution_count": null,
      "metadata": {
        "colab": {
          "base_uri": "https://localhost:8080/",
          "height": 649
        },
        "id": "cttHwFqsC8mc",
        "outputId": "cc0e734e-75ea-410b-ca39-b5fb659325f5"
      },
      "outputs": [
        {
          "output_type": "display_data",
          "data": {
            "text/plain": [
              "<Figure size 1500x800 with 4 Axes>"
            ],
            "image/png": "[encoded data removed]"
          },
          "metadata": {}
        }
      ],
      "source": [
        "# Mengecek Outlier\n",
        "# Menampilkan plot sebelum penanganan outliers\n",
        "num_cols = len(dataset.select_dtypes(include=['int', 'float']).columns)\n",
        "plt.figure(figsize=(15, 8))\n",
        "rows = (num_cols + 2) // 3\n",
        "for i, col in enumerate(dataset.select_dtypes(include=['int', 'float']).columns):\n",
        "    plt.subplot(rows, 3, i + 1)\n",
        "    sns.boxplot(x=dataset[col])\n",
        "    plt.title(f'Boxplot Kolom {col}')\n",
        "plt.show()\n"
      ]
    },
    {
      "cell_type": "code",
      "source": [
        "# Menampilkan jumlah data sebelum penanganan outliers\n",
        "initial_count = dataset.shape[0]\n",
        "print(f'Jumlah data sebelum penanganan outliers: {initial_count}')"
      ],
      "metadata": {
        "colab": {
          "base_uri": "https://localhost:8080/"
        },
        "id": "FRQL-SBLOy12",
        "outputId": "4a5f57ed-a027-43af-891e-173cb8e5bab6"
      },
      "execution_count": null,
      "outputs": [
        {
          "output_type": "stream",
          "name": "stdout",
          "text": [
            "Jumlah data sebelum penanganan outliers: 338\n"
          ]
        }
      ]
    },
    {
      "cell_type": "markdown",
      "metadata": {
        "id": "uv1fIflRC-ew"
      },
      "source": [
        "# **Menangani Outliers**"
      ]
    },
    {
      "cell_type": "code",
      "execution_count": null,
      "metadata": {
        "id": "Izt6Cbx5AzVP",
        "colab": {
          "base_uri": "https://localhost:8080/"
        },
        "outputId": "987e67ef-2caf-4e3b-e42f-8beed8bacb48"
      },
      "outputs": [
        {
          "output_type": "stream",
          "name": "stdout",
          "text": [
            "Jumlah data setelah penanganan outliers: 306\n",
            "Jumlah outliers yang dihapus: 32\n"
          ]
        }
      ],
      "source": [
        "# Mengatasi outliers menggunakan IQR\n",
        "Q1 = dataset.iloc[:, :-1].quantile(0.25)\n",
        "Q3 = dataset.iloc[:, :-1].quantile(0.75)\n",
        "IQR = Q3 - Q1\n",
        "\n",
        "# Menghapus outliers\n",
        "filtered_dataset = dataset[~((dataset.iloc[:, :-1] < (Q1 - 1.5 * IQR)) | (dataset.iloc[:, :-1] > (Q3 + 1.5 * IQR))).any(axis=1)]\n",
        "\n",
        "# Menghitung jumlah data setelah penanganan outliers\n",
        "final_count = filtered_dataset.shape[0]\n",
        "outliers_removed = initial_count - final_count\n",
        "print(f'Jumlah data setelah penanganan outliers: {final_count}')\n",
        "print(f'Jumlah outliers yang dihapus: {outliers_removed}')"
      ]
    },
    {
      "cell_type": "code",
      "execution_count": null,
      "metadata": {
        "id": "T_7SF0UMEx7B",
        "colab": {
          "base_uri": "https://localhost:8080/",
          "height": 585
        },
        "outputId": "cbb01af3-a84c-4c2d-fd76-8ae56719c5e3"
      },
      "outputs": [
        {
          "output_type": "display_data",
          "data": {
            "text/plain": [
              "<Figure size 1500x800 with 4 Axes>"
            ],
            "image/png": "[encoded data removed]"
          },
          "metadata": {}
        }
      ],
      "source": [
        "# Mengecek Outliers setelah penanganan\n",
        "plt.figure(figsize=(15, 8))\n",
        "for i, col in enumerate(dataset.select_dtypes(include=['int', 'float']).columns):\n",
        "    plt.subplot(rows, 3, i+1)\n",
        "    sns.boxplot(x=dataset[col])\n",
        "    plt.title(f'Boxplot setelah penanganan untuk Kolom {col}')\n",
        "plt.tight_layout()\n",
        "plt.show()"
      ]
    },
    {
      "cell_type": "markdown",
      "metadata": {
        "id": "PgzCnaafFwHD"
      },
      "source": [
        "# **Splitting Data**"
      ]
    },
    {
      "cell_type": "code",
      "execution_count": null,
      "metadata": {
        "id": "iC6hgMxnMvR2"
      },
      "outputs": [],
      "source": [
        "# Define features and target\n",
        "X = fitur\n",
        "Y = target\n"
      ]
    },
    {
      "cell_type": "code",
      "execution_count": null,
      "metadata": {
        "id": "GyxblwQPM0on",
        "colab": {
          "base_uri": "https://localhost:8080/"
        },
        "outputId": "778daec2-f455-4a3c-a9a4-bd815fe70dad"
      },
      "outputs": [
        {
          "output_type": "stream",
          "name": "stdout",
          "text": [
            "\n",
            "Size of X_train: (253, 3)\n",
            "Size of X_test: (85, 3)\n",
            "Size of Y_train: (253, 1)\n",
            "Size of Y_test: (85, 1)\n",
            "\n",
            "Head of X_train:\n",
            "            V         H    S\n",
            "245  0.290030  0.090909  1.0\n",
            "244  0.302114  0.909091  0.4\n",
            "181  0.329305  1.000000  1.0\n",
            "168  0.240332  0.181818  0.4\n",
            "124  0.664652  0.181818  0.4\n",
            "\n",
            "Head of Y_train:\n",
            "     M\n",
            "245  1\n",
            "244  1\n",
            "181  4\n",
            "168  4\n",
            "124  3\n",
            "\n",
            "Head of X_test:\n",
            "            V         H    S\n",
            "110  0.389728  0.181818  0.2\n",
            "333  0.323262  0.909091  0.4\n",
            "185  0.335347  0.454545  0.0\n",
            "76   0.468277  0.818182  0.8\n",
            "211  0.471299  0.181818  0.4\n",
            "\n",
            "Head of Y_test:\n",
            "     M\n",
            "110  3\n",
            "333  5\n",
            "185  5\n",
            "76   2\n",
            "211  5\n"
          ]
        }
      ],
      "source": [
        "# Split the dataset into training set and test set\n",
        "X_train, X_test, Y_train, Y_test = train_test_split(X, Y, test_size=0.25, random_state=42)\n",
        "\n",
        "# Display the size of each set\n",
        "print(\"\\nSize of X_train:\", X_train.shape)\n",
        "print(\"Size of X_test:\", X_test.shape)\n",
        "print(\"Size of Y_train:\", Y_train.shape)\n",
        "print(\"Size of Y_test:\", Y_test.shape)\n",
        "\n",
        "# Display first few rows of X_train and Y_train to ensure they are separated correctly\n",
        "print(\"\\nHead of X_train:\")\n",
        "print(pd.DataFrame(X_train).head())\n",
        "\n",
        "print(\"\\nHead of Y_train:\")\n",
        "print(pd.DataFrame(Y_train).head())\n",
        "\n",
        "print(\"\\nHead of X_test:\")\n",
        "print(pd.DataFrame(X_test).head())\n",
        "\n",
        "print(\"\\nHead of Y_test:\")\n",
        "print(pd.DataFrame(Y_test).head())\n"
      ]
    },
    {
      "cell_type": "markdown",
      "metadata": {
        "id": "V6G6Ze7Fv_1P"
      },
      "source": [
        "# **Transformasi Data**"
      ]
    },
    {
      "cell_type": "code",
      "execution_count": null,
      "metadata": {
        "id": "85sgIAaKXA_-"
      },
      "outputs": [],
      "source": [
        "# Initialize the MinMaxScaler\n",
        "scaler = MinMaxScaler()\n",
        "\n",
        "# Fit the scaler on the training data and transform both training and testing data\n",
        "X_train_normalized = scaler.fit_transform(X_train)\n",
        "X_test_normalized = scaler.transform(X_test)\n"
      ]
    },
    {
      "cell_type": "markdown",
      "metadata": {
        "id": "GT3QtZeQinjC"
      },
      "source": [
        "# **Model Training dan Evaluation Menggunakan Metode Gaussian Naive Bayes**"
      ]
    },
    {
      "cell_type": "code",
      "execution_count": null,
      "metadata": {
        "id": "4fBkPOmnw7rw",
        "colab": {
          "base_uri": "https://localhost:8080/",
          "height": 92
        },
        "outputId": "c5b4b294-426d-4ba2-ef9b-643ab7de8fd0"
      },
      "outputs": [
        {
          "output_type": "execute_result",
          "data": {
            "text/plain": [
              "DecisionTreeClassifier(max_depth=5, min_samples_leaf=5, min_samples_split=10,\n",
              "                       random_state=42)"
            ],
            "text/html": [
              "<style>#sk-container-id-4 {color: black;background-color: white;}#sk-container-id-4 pre{padding: 0;}#sk-container-id-4 div.sk-toggleable {background-color: white;}#sk-container-id-4 label.sk-toggleable__label {cursor: pointer;display: block;width: 100%;margin-bottom: 0;padding: 0.3em;box-sizing: border-box;text-align: center;}#sk-container-id-4 label.sk-toggleable__label-arrow:before {content: \"▸\";float: left;margin-right: 0.25em;color: #696969;}#sk-container-id-4 label.sk-toggleable__label-arrow:hover:before {color: black;}#sk-container-id-4 div.sk-estimator:hover label.sk-toggleable__label-arrow:before {color: black;}#sk-container-id-4 div.sk-toggleable__content {max-height: 0;max-width: 0;overflow: hidden;text-align: left;background-color: #f0f8ff;}#sk-container-id-4 div.sk-toggleable__content pre {margin: 0.2em;color: black;border-radius: 0.25em;background-color: #f0f8ff;}#sk-container-id-4 input.sk-toggleable__control:checked~div.sk-toggleable__content {max-height: 200px;max-width: 100%;overflow: auto;}#sk-container-id-4 input.sk-toggleable__control:checked~label.sk-toggleable__label-arrow:before {content: \"▾\";}#sk-container-id-4 div.sk-estimator input.sk-toggleable__control:checked~label.sk-toggleable__label {background-color: #d4ebff;}#sk-container-id-4 div.sk-label input.sk-toggleable__control:checked~label.sk-toggleable__label {background-color: #d4ebff;}#sk-container-id-4 input.sk-hidden--visually {border: 0;clip: rect(1px 1px 1px 1px);clip: rect(1px, 1px, 1px, 1px);height: 1px;margin: -1px;overflow: hidden;padding: 0;position: absolute;width: 1px;}#sk-container-id-4 div.sk-estimator {font-family: monospace;background-color: #f0f8ff;border: 1px dotted black;border-radius: 0.25em;box-sizing: border-box;margin-bottom: 0.5em;}#sk-container-id-4 div.sk-estimator:hover {background-color: #d4ebff;}#sk-container-id-4 div.sk-parallel-item::after {content: \"\";width: 100%;border-bottom: 1px solid gray;flex-grow: 1;}#sk-container-id-4 div.sk-label:hover label.sk-toggleable__label {background-color: #d4ebff;}#sk-container-id-4 div.sk-serial::before {content: \"\";position: absolute;border-left: 1px solid gray;box-sizing: border-box;top: 0;bottom: 0;left: 50%;z-index: 0;}#sk-container-id-4 div.sk-serial {display: flex;flex-direction: column;align-items: center;background-color: white;padding-right: 0.2em;padding-left: 0.2em;position: relative;}#sk-container-id-4 div.sk-item {position: relative;z-index: 1;}#sk-container-id-4 div.sk-parallel {display: flex;align-items: stretch;justify-content: center;background-color: white;position: relative;}#sk-container-id-4 div.sk-item::before, #sk-container-id-4 div.sk-parallel-item::before {content: \"\";position: absolute;border-left: 1px solid gray;box-sizing: border-box;top: 0;bottom: 0;left: 50%;z-index: -1;}#sk-container-id-4 div.sk-parallel-item {display: flex;flex-direction: column;z-index: 1;position: relative;background-color: white;}#sk-container-id-4 div.sk-parallel-item:first-child::after {align-self: flex-end;width: 50%;}#sk-container-id-4 div.sk-parallel-item:last-child::after {align-self: flex-start;width: 50%;}#sk-container-id-4 div.sk-parallel-item:only-child::after {width: 0;}#sk-container-id-4 div.sk-dashed-wrapped {border: 1px dashed gray;margin: 0 0.4em 0.5em 0.4em;box-sizing: border-box;padding-bottom: 0.4em;background-color: white;}#sk-container-id-4 div.sk-label label {font-family: monospace;font-weight: bold;display: inline-block;line-height: 1.2em;}#sk-container-id-4 div.sk-label-container {text-align: center;}#sk-container-id-4 div.sk-container {/* jupyter's `normalize.less` sets `[hidden] { display: none; }` but bootstrap.min.css set `[hidden] { display: none !important; }` so we also need the `!important` here to be able to override the default hidden behavior on the sphinx rendered scikit-learn.org. See: https://github.com/scikit-learn/scikit-learn/issues/21755 */display: inline-block !important;position: relative;}#sk-container-id-4 div.sk-text-repr-fallback {display: none;}</style><div id=\"sk-container-id-4\" class=\"sk-top-container\"><div class=\"sk-text-repr-fallback\"><pre>DecisionTreeClassifier(max_depth=5, min_samples_leaf=5, min_samples_split=10,\n",
              "                       random_state=42)</pre><b>In a Jupyter environment, please rerun this cell to show the HTML representation or trust the notebook. <br />On GitHub, the HTML representation is unable to render, please try loading this page with nbviewer.org.</b></div><div class=\"sk-container\" hidden><div class=\"sk-item\"><div class=\"sk-estimator sk-toggleable\"><input class=\"sk-toggleable__control sk-hidden--visually\" id=\"sk-estimator-id-4\" type=\"checkbox\" checked><label for=\"sk-estimator-id-4\" class=\"sk-toggleable__label sk-toggleable__label-arrow\">DecisionTreeClassifier</label><div class=\"sk-toggleable__content\"><pre>DecisionTreeClassifier(max_depth=5, min_samples_leaf=5, min_samples_split=10,\n",
              "                       random_state=42)</pre></div></div></div></div></div>"
            ]
          },
          "metadata": {},
          "execution_count": 111
        }
      ],
      "source": [
        "# Fit the models\n",
        "gnb = GaussianNB()\n",
        "knn = KNeighborsClassifier(n_neighbors=5, metric='manhattan')\n",
        "dt = DecisionTreeClassifier(max_depth=5, min_samples_split=10, min_samples_leaf=5, random_state=42)\n",
        "gnb.fit(X_train_normalized, Y_train.values.ravel())\n",
        "knn.fit(X_train_normalized, Y_train.values.ravel())\n",
        "dt.fit(X_train_normalized, Y_train.values.ravel())"
      ]
    },
    {
      "cell_type": "code",
      "execution_count": null,
      "metadata": {
        "id": "VqRaIqnJ2PY1",
        "colab": {
          "base_uri": "https://localhost:8080/"
        },
        "outputId": "18401dd9-87e7-49d1-c50b-658378d4b39b"
      },
      "outputs": [
        {
          "output_type": "stream",
          "name": "stdout",
          "text": [
            "Naïve Bayes Accuracy (Test): 0.4470588235294118\n",
            "\n",
            "Classification Report (Test):\n",
            "               precision    recall  f1-score   support\n",
            "\n",
            "           1       0.52      0.94      0.67        16\n",
            "           2       0.60      0.75      0.67        16\n",
            "           3       0.20      0.19      0.19        16\n",
            "           4       0.12      0.07      0.09        15\n",
            "           5       0.54      0.32      0.40        22\n",
            "\n",
            "    accuracy                           0.45        85\n",
            "   macro avg       0.40      0.45      0.40        85\n",
            "weighted avg       0.41      0.45      0.41        85\n",
            "\n",
            "Naïve Bayes Accuracy (Train): 0.48616600790513836\n",
            "\n",
            "Classification Report (Train):\n",
            "               precision    recall  f1-score   support\n",
            "\n",
            "           1       0.52      0.93      0.66        55\n",
            "           2       0.82      0.67      0.73        54\n",
            "           3       0.24      0.22      0.23        50\n",
            "           4       0.52      0.25      0.34        51\n",
            "           5       0.31      0.28      0.29        43\n",
            "\n",
            "    accuracy                           0.49       253\n",
            "   macro avg       0.48      0.47      0.45       253\n",
            "weighted avg       0.49      0.49      0.46       253\n",
            "\n"
          ]
        }
      ],
      "source": [
        "# Initialize and train the Gaussian Naïve Bayes classifier\n",
        "gnb = GaussianNB()\n",
        "gnb.fit(X_train_normalized, Y_train.values.ravel())\n",
        "\n",
        "# Make predictions on the test set\n",
        "Y_pred_gnb = gnb.predict(X_test_normalized)\n",
        "\n",
        "# Make predictions on the training set\n",
        "Y_train_pred_gnb = gnb.predict(X_train_normalized)\n",
        "\n",
        "# Evaluate the model's performance on the test set\n",
        "accuracy_test_gnb = accuracy_score(Y_test, Y_pred_gnb)\n",
        "print(\"Naïve Bayes Accuracy (Test):\", accuracy_test_gnb)\n",
        "print(\"\\nClassification Report (Test):\\n\", classification_report(Y_test, Y_pred_gnb))\n",
        "\n",
        "# Evaluate the model's performance on the training set\n",
        "accuracy_train_gnb = accuracy_score(Y_train, Y_train_pred_gnb)\n",
        "print(\"Naïve Bayes Accuracy (Train):\", accuracy_train_gnb)\n",
        "print(\"\\nClassification Report (Train):\\n\", classification_report(Y_train, Y_train_pred_gnb))\n"
      ]
    },
    {
      "cell_type": "markdown",
      "metadata": {
        "id": "bBRHxBjO24Bk"
      },
      "source": [
        "# **Model Training dan Evaluation menggunakan Metode KNN Matriks Manhattan**"
      ]
    },
    {
      "cell_type": "code",
      "execution_count": null,
      "metadata": {
        "id": "eZuy32fk2Imj",
        "colab": {
          "base_uri": "https://localhost:8080/"
        },
        "outputId": "23640d4d-93d4-41fb-e1af-966f8bd45e1d"
      },
      "outputs": [
        {
          "output_type": "stream",
          "name": "stdout",
          "text": [
            "KNN Accuracy (Test): 0.4470588235294118\n",
            "\n",
            "Classification Report (Test):\n",
            "               precision    recall  f1-score   support\n",
            "\n",
            "           1       0.52      0.75      0.62        16\n",
            "           2       0.78      0.88      0.82        16\n",
            "           3       0.26      0.44      0.33        16\n",
            "           4       0.27      0.20      0.23        15\n",
            "           5       0.33      0.09      0.14        22\n",
            "\n",
            "    accuracy                           0.45        85\n",
            "   macro avg       0.43      0.47      0.43        85\n",
            "weighted avg       0.43      0.45      0.41        85\n",
            "\n",
            "KNN Accuracy (Train): 0.6719367588932806\n",
            "\n",
            "Classification Report (Train):\n",
            "               precision    recall  f1-score   support\n",
            "\n",
            "           1       0.71      0.98      0.82        55\n",
            "           2       0.88      0.98      0.93        54\n",
            "           3       0.47      0.62      0.53        50\n",
            "           4       0.68      0.41      0.51        51\n",
            "           5       0.55      0.26      0.35        43\n",
            "\n",
            "    accuracy                           0.67       253\n",
            "   macro avg       0.66      0.65      0.63       253\n",
            "weighted avg       0.67      0.67      0.65       253\n",
            "\n"
          ]
        }
      ],
      "source": [
        "# Initialize and train the KNN classifier with Manhattan distance\n",
        "knn = KNeighborsClassifier(n_neighbors=5, metric='manhattan')\n",
        "knn.fit(X_train_normalized, Y_train.values.ravel())\n",
        "\n",
        "# Make predictions on the test set\n",
        "Y_pred_knn = knn.predict(X_test_normalized)\n",
        "\n",
        "# Make predictions on the training set\n",
        "Y_train_pred_knn = knn.predict(X_train_normalized)\n",
        "\n",
        "# Evaluate the model's performance on the test set\n",
        "accuracy_test_knn = accuracy_score(Y_test, Y_pred_knn)\n",
        "print(\"KNN Accuracy (Test):\", accuracy_test_knn)\n",
        "print(\"\\nClassification Report (Test):\\n\", classification_report(Y_test, Y_pred_knn))\n",
        "\n",
        "# Evaluate the model's performance on the training set\n",
        "accuracy_train_knn = accuracy_score(Y_train, Y_train_pred_knn)\n",
        "print(\"KNN Accuracy (Train):\", accuracy_train_knn)\n",
        "print(\"\\nClassification Report (Train):\\n\", classification_report(Y_train, Y_train_pred_knn))\n"
      ]
    },
    {
      "cell_type": "markdown",
      "metadata": {
        "id": "bq7Gcbl13V_d"
      },
      "source": [
        "# **Model Training dan Evaluation menggunakan Metode Decision Tree**"
      ]
    },
    {
      "cell_type": "code",
      "execution_count": null,
      "metadata": {
        "id": "I5hW7CUM2hL3",
        "colab": {
          "base_uri": "https://localhost:8080/"
        },
        "outputId": "a86c6a85-d2fd-4fdc-8d70-11d12fd50413"
      },
      "outputs": [
        {
          "output_type": "stream",
          "name": "stdout",
          "text": [
            "Decision Tree Accuracy (Test): 0.49411764705882355\n",
            "\n",
            "Classification Report (Test):\n",
            "               precision    recall  f1-score   support\n",
            "\n",
            "           1       0.48      0.75      0.59        16\n",
            "           2       1.00      0.94      0.97        16\n",
            "           3       0.33      0.50      0.40        16\n",
            "           4       0.37      0.47      0.41        15\n",
            "           5       0.00      0.00      0.00        22\n",
            "\n",
            "    accuracy                           0.49        85\n",
            "   macro avg       0.44      0.53      0.47        85\n",
            "weighted avg       0.41      0.49      0.44        85\n",
            "\n",
            "Decision Tree Accuracy (Train): 0.6758893280632411\n",
            "\n",
            "Classification Report (Train):\n",
            "               precision    recall  f1-score   support\n",
            "\n",
            "           1       0.60      0.89      0.72        55\n",
            "           2       0.96      0.87      0.91        54\n",
            "           3       0.56      0.70      0.62        50\n",
            "           4       0.64      0.63      0.63        51\n",
            "           5       0.73      0.19      0.30        43\n",
            "\n",
            "    accuracy                           0.68       253\n",
            "   macro avg       0.70      0.65      0.64       253\n",
            "weighted avg       0.70      0.68      0.65       253\n",
            "\n"
          ]
        }
      ],
      "source": [
        "# Initialize and train the Decision Tree classifier\n",
        "dt = DecisionTreeClassifier(max_depth=5, min_samples_split=10, min_samples_leaf=5, random_state=42)\n",
        "dt.fit(X_train_normalized, Y_train.values.ravel())\n",
        "\n",
        "# Make predictions on the test set\n",
        "Y_pred_dt = dt.predict(X_test_normalized)\n",
        "\n",
        "# Make predictions on the training set\n",
        "Y_train_pred_dt = dt.predict(X_train_normalized)\n",
        "\n",
        "# Evaluate the model's performance on the test set\n",
        "accuracy_test_dt = accuracy_score(Y_test, Y_pred_dt)\n",
        "print(\"Decision Tree Accuracy (Test):\", accuracy_test_dt)\n",
        "print(\"\\nClassification Report (Test):\\n\", classification_report(Y_test, Y_pred_dt))\n",
        "\n",
        "# Evaluate the model's performance on the training set\n",
        "accuracy_train_dt = accuracy_score(Y_train, Y_train_pred_dt)\n",
        "print(\"Decision Tree Accuracy (Train):\", accuracy_train_dt)\n",
        "print(\"\\nClassification Report (Train):\\n\", classification_report(Y_train, Y_train_pred_dt))\n"
      ]
    },
    {
      "cell_type": "markdown",
      "metadata": {
        "id": "QlUZVV94nfRN"
      },
      "source": [
        "# ** Hasil dan Analisis**\n",
        "\n"
      ]
    },
    {
      "cell_type": "code",
      "execution_count": null,
      "metadata": {
        "id": "wBk7Fk-bn64N",
        "colab": {
          "base_uri": "https://localhost:8080/",
          "height": 692
        },
        "outputId": "61330955-8e9d-4993-c377-9c5475ba6588"
      },
      "outputs": [
        {
          "output_type": "stream",
          "name": "stdout",
          "text": [
            "Test Set Results:\n",
            "           Model  Accuracy  Precision    Recall  F1 Score\n",
            "0    Naïve Bayes  0.447059   0.409377  0.447059  0.406288\n",
            "1            KNN  0.447059   0.427820  0.447059  0.409839\n",
            "2  Decision Tree  0.494118   0.406349  0.494118  0.440308\n",
            "\n",
            "Training Set Results:\n",
            "           Model  Accuracy  Precision    Recall  F1 Score\n",
            "0    Naïve Bayes  0.486166   0.490998  0.486166  0.464795\n",
            "1            KNN  0.671937   0.665858  0.671937  0.645913\n",
            "2  Decision Tree  0.675889   0.700419  0.675889  0.653049\n"
          ]
        },
        {
          "output_type": "display_data",
          "data": {
            "text/plain": [
              "<Figure size 1500x600 with 2 Axes>"
            ],
            "image/png": "[encoded data removed]"
          },
          "metadata": {}
        }
      ],
      "source": [
        "# Create DataFrames for the results\n",
        "results_test = pd.DataFrame({\n",
        "    'Model': ['Naïve Bayes', 'KNN', 'Decision Tree'],\n",
        "    'Accuracy': [accuracy_test_gnb, accuracy_test_knn, accuracy_test_dt],\n",
        "    'Precision': [precision_score(Y_test, Y_pred_gnb, average='weighted'),\n",
        "                  precision_score(Y_test, Y_pred_knn, average='weighted'),\n",
        "                  precision_score(Y_test, Y_pred_dt, average='weighted')],\n",
        "    'Recall': [recall_score(Y_test, Y_pred_gnb, average='weighted'),\n",
        "               recall_score(Y_test, Y_pred_knn, average='weighted'),\n",
        "               recall_score(Y_test, Y_pred_dt, average='weighted')],\n",
        "    'F1 Score': [f1_score(Y_test, Y_pred_gnb, average='weighted'),\n",
        "                 f1_score(Y_test, Y_pred_knn, average='weighted'),\n",
        "                 f1_score(Y_test, Y_pred_dt, average='weighted')]\n",
        "})\n",
        "\n",
        "results_train = pd.DataFrame({\n",
        "    'Model': ['Naïve Bayes', 'KNN', 'Decision Tree'],\n",
        "    'Accuracy': [accuracy_train_gnb, accuracy_train_knn, accuracy_train_dt],\n",
        "    'Precision': [precision_score(Y_train, Y_train_pred_gnb, average='weighted'),\n",
        "                  precision_score(Y_train, Y_train_pred_knn, average='weighted'),\n",
        "                  precision_score(Y_train, Y_train_pred_dt, average='weighted')],\n",
        "    'Recall': [recall_score(Y_train, Y_train_pred_gnb, average='weighted'),\n",
        "               recall_score(Y_train, Y_train_pred_knn, average='weighted'),\n",
        "               recall_score(Y_train, Y_train_pred_dt, average='weighted')],\n",
        "    'F1 Score': [f1_score(Y_train, Y_train_pred_gnb, average='weighted'),\n",
        "                 f1_score(Y_train, Y_train_pred_knn, average='weighted'),\n",
        "                 f1_score(Y_train, Y_train_pred_dt, average='weighted')]\n",
        "})\n",
        "\n",
        "print(\"Test Set Results:\")\n",
        "print(results_test)\n",
        "print(\"\\nTraining Set Results:\")\n",
        "print(results_train)\n",
        "\n",
        "# Plot the results\n",
        "fig, axes = plt.subplots(1, 2, figsize=(15, 6), sharey=True)\n",
        "\n",
        "results_train.set_index('Model').plot(kind='bar', ax=axes[0], title='Training Set Performance')\n",
        "results_test.set_index('Model').plot(kind='bar', ax=axes[1], title='Test Set Performance')\n",
        "\n",
        "for ax in axes:\n",
        "    ax.set_ylabel('Score')\n",
        "    ax.set_xticklabels(ax.get_xticklabels(), rotation=0)\n",
        "\n",
        "plt.show()\n"
      ]
    },
    {
      "cell_type": "markdown",
      "metadata": {
        "id": "2GhCuxr9oS-m"
      },
      "source": [
        "Kami melakukan model training menggunakan tiga metode yaitu Naive Bayes, KNN  dan Decision Tree, lalu kami mendapatkan bahwa akurasi data training Selalu Kurang dari 0.7, dan akurasi data tes selalu kurang dari 0,5. Kami mendapati bahwa dari ketiga metode machine learning yang kami lakukan yang memiliki akurasi paling tinggi adalah metode Decision Tree denggan akurasi test mencapai 0,49 dan akurasi training mencapai 0,67. Kami juga telah mencoba berbagai cara untuk mengurangi atau menghilangkan outliers, namun data hanya semakin menurun dan metode penanganan yang memberikan akurasi terbaik adalah IQR, meskipun masih terdapat banyak outliers yang tersisa\n",
        "\n",
        "Dari hasil di atas:\n",
        "\n",
        "Naïve Bayes memiliki akurasi dan F1-Score yang paling rendah pada data testing. Model ini mungkin tidak mampu menangani kompleksitas atau fitur non-linear dalam dataset dengan baik.\n",
        "\n",
        "KNN memiliki presisi yang sedikit lebih baik daripada Naïve Bayes, tetapi tetap menunjukkan kinerja yang rendah pada data testing.\n",
        "\n",
        "Decision Tree memberikan performa terbaik dalam hal akurasi dan F1-Score pada data testing, menunjukkan kemampuan untuk menangkap pola yang lebih kompleks dalam dataset meskipun masih menunjukkan overfitting yang ditunjukkan oleh perbedaan yang besar antara akurasi training dan testing.\n",
        "\n",
        " maka dapat disimpulkan bahwa dataset ini mungkin memiliki :\n",
        "\n",
        "*Ketidakseimbangan Kelas:* Jika dataset tidak seimbang, model akan kesulitan mempelajari kelas minoritas, sehingga akurasi bisa rendah.\n",
        "\n",
        "*Fitur yang Tidak Relevan atau Kurang Informasi:* Fitur yang digunakan mungkin tidak cukup informatif untuk membedakan antara kelas-kelas yang berbeda.\n",
        "\n",
        "*Overfitting:* Model mungkin terlalu fit dengan data training dan tidak generalisasi dengan baik pada data testing.\n",
        "\n",
        "*Outliers*: Meskipun sudah dihapus, mungkin masih ada beberapa outliers yang mempengaruhi kinerja model.\n",
        "\n",
        "*Kompleksitas Data:* Dataset mungkin memiliki kompleksitas yang tinggi, sehingga model sederhana seperti yang digunakan tidak cukup untuk menangkap pola dalam data.\n",
        "\n"
      ]
    },
    {
      "cell_type": "markdown",
      "metadata": {
        "id": "5aW-G3eWnmk4"
      },
      "source": [
        "# **Kesimpulan:**\n",
        "\n",
        "Dari hasil evaluasi, kita melihat bahwa semua model memiliki akurasi yang kurang dari 0.7 pada data training, sementara untuk data test mwmiliki akurasi dibawah 0.5. Meskipun sudah mencoba beberapa metode, performa masih kurang memuaskan. Mungkin kami perlu melakukan lebih banyak eksplorasi fitur atau menggunakan model yang lebih kompleks."
      ]
    },
    {
      "cell_type": "markdown",
      "source": [
        "# **Jawab Pertanyaan**"
      ],
      "metadata": {
        "id": "b0iynImDR-yz"
      }
    },
    {
      "cell_type": "code",
      "source": [
        "# Menampilkan jumlah data sebelum penanganan outliers\n",
        "initial_count = dataset.shape[0]\n",
        "print(f'Jumlah data sebelum penanganan outliers: {initial_count}')"
      ],
      "metadata": {
        "colab": {
          "base_uri": "https://localhost:8080/"
        },
        "id": "243SKa6DSL0b",
        "outputId": "8bada979-4acb-475c-9180-fafc29200895"
      },
      "execution_count": null,
      "outputs": [
        {
          "output_type": "stream",
          "name": "stdout",
          "text": [
            "Jumlah data sebelum penanganan outliers: 338\n"
          ]
        }
      ]
    },
    {
      "cell_type": "code",
      "source": [
        "print(f'Jumlah data setelah penanganan outliers: {final_count}')\n",
        "print(f'Jumlah outliers yang dihapus: {outliers_removed}')"
      ],
      "metadata": {
        "colab": {
          "base_uri": "https://localhost:8080/"
        },
        "id": "RQjL9FVESFnE",
        "outputId": "78664d85-9e20-4138-b210-abf0b627b726"
      },
      "execution_count": null,
      "outputs": [
        {
          "output_type": "stream",
          "name": "stdout",
          "text": [
            "Jumlah data setelah penanganan outliers: 306\n",
            "Jumlah outliers yang dihapus: 32\n"
          ]
        }
      ]
    },
    {
      "cell_type": "code",
      "source": [
        "# Hitung koefisien korelasi antara fitur dan target\n",
        "correlations = X_filtered.apply(lambda x: x.corr(Y_filtered))\n",
        "\n",
        "# Tampilkan hasil koefisien korelasi\n",
        "print(\"Koefisien Korelasi antara Fitur dan Variabel Target (M):\")\n",
        "print(correlations)"
      ],
      "metadata": {
        "colab": {
          "base_uri": "https://localhost:8080/"
        },
        "id": "vOYKUQb2SfaK",
        "outputId": "2d607f67-04b3-4dcf-b545-e2ade628450b"
      },
      "execution_count": null,
      "outputs": [
        {
          "output_type": "stream",
          "name": "stdout",
          "text": [
            "Koefisien Korelasi antara Fitur dan Variabel Target (M):\n",
            "V   -0.144569\n",
            "H    0.041326\n",
            "S    0.017346\n",
            "dtype: float64\n"
          ]
        }
      ]
    },
    {
      "cell_type": "code",
      "source": [
        "mean_values = X_filtered.mean()\n",
        "std_values = X_filtered.std()\n",
        "is_minmax_normalized = all((X_filtered.min() >= 0) & (X_filtered.max() <= 1))\n",
        "print(f'Apakah data dinormalisasi dengan MinMaxScaler: {\"Ya\" if is_minmax_normalized else \"Tidak\"}')\n"
      ],
      "metadata": {
        "colab": {
          "base_uri": "https://localhost:8080/"
        },
        "id": "ZTzwztDXPvlr",
        "outputId": "bcc96c59-da57-4bf2-ffc5-a983f1342486"
      },
      "execution_count": null,
      "outputs": [
        {
          "output_type": "stream",
          "name": "stdout",
          "text": [
            "Apakah data dinormalisasi dengan MinMaxScaler: Ya\n"
          ]
        }
      ]
    },
    {
      "cell_type": "code",
      "source": [
        "# 5. Rentang data tiap fitur:\n",
        "data_ranges = X_filtered.agg(['min', 'max'])\n",
        "print(\"\\nRentang Data untuk Setiap Fitur:\")\n",
        "print(data_ranges)\n"
      ],
      "metadata": {
        "colab": {
          "base_uri": "https://localhost:8080/"
        },
        "id": "_XOki8EEPyHZ",
        "outputId": "53276ebc-1dad-447a-d657-3b87472c1b2b"
      },
      "execution_count": null,
      "outputs": [
        {
          "output_type": "stream",
          "name": "stdout",
          "text": [
            "\n",
            "Rentang Data untuk Setiap Fitur:\n",
            "            V    H    S\n",
            "min  0.197734  0.0  0.0\n",
            "max  0.999999  1.0  1.0\n"
          ]
        }
      ]
    }
  ],
  "metadata": {
    "colab": {
      "provenance": []
    },
    "kernelspec": {
      "display_name": "Python 3",
      "name": "python3"
    },
    "language_info": {
      "name": "python"
    }
  },
  "nbformat": 4,
  "nbformat_minor": 0
}